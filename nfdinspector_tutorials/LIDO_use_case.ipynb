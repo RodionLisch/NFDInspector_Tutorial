{
 "cells": [
  {
   "cell_type": "markdown",
   "metadata": {},
   "source": [
    "### Use case for NFDInspector\n",
    "In this use case, we will explore the capabilities of NFDInspector a little further. We will go through a typical application. In our scenario, a collection of stereo glass plates was digitized as part of a digitization project. The associated metadata was partly generated from existing legacy data and partly created by new indexing.\n",
    "NDFInspector for LIDO-xml offers the possibility to adapt the parameters of the analysis to the respective use case. For this purpose, we will take a closer look at the configuration file and the setting options within it.<br>\n",
    "The LIDO xml files were created and collected in the /LIDO_xml folder. There are a total of 2,063 LIDO-records in separate xml files. The existing data was generated from the portal __[westfalen.museum-digital.de](https://westfalen.museum-digital.de/objects?s=collection:670)__. For more information on the specifications of the LIDO format, please refer to the __[documentation](https://cidoc.mini.icom.museum/working-groups/lido/lido-overview/about-lido/what-is-lido/)__.\n",
    "\n",
    "### Initialization\n",
    "To begin the inspection, the NFDInspector package is imported and the lido_inspector is initialized. English is selected as the output language."
   ]
  },
  {
   "cell_type": "code",
   "execution_count": 3,
   "metadata": {},
   "outputs": [],
   "source": [
    "from nfdinspector.lido_inspector import LIDOInspector\n",
    "\n",
    "lido_inspector = LIDOInspector(error_lang='en')"
   ]
  },
  {
   "cell_type": "markdown",
   "metadata": {},
   "source": [
    "### Configuration\n",
    "At this point, we will take a closer look at the configuration and therefore the configuration file. As there is no ready-made file available, the standard configuration is read from the ``LIDOInspector``. The dictionary created in this way is saved as a JSON file and can also be displayed in the notebook."
   ]
  },
  {
   "cell_type": "code",
   "execution_count": 9,
   "metadata": {},
   "outputs": [
    {
     "data": {
      "text/plain": [
       "{'workID': {'pattern': ''},\n",
       " 'title': {'inspect': True,\n",
       "  'unique': True,\n",
       "  'distinct_from_type': True,\n",
       "  'min_word_num': 2,\n",
       "  'max_word_num': 20},\n",
       " 'category': {'inspect': True,\n",
       "  'ref': True,\n",
       "  'patterns': {'label': '', 'ref': ''}},\n",
       " 'object_work_type': {'inspect': True,\n",
       "  'ref': True,\n",
       "  'patterns': {'label': '', 'ref': ''}},\n",
       " 'classification': {'inspect': True,\n",
       "  'ref': True,\n",
       "  'patterns': {'label': '', 'ref': ''}},\n",
       " 'object_description': {'inspect': True,\n",
       "  'unique': True,\n",
       "  'min_word_num': 20,\n",
       "  'max_word_num': 500},\n",
       " 'materials_tech': {'inspect': True, 'ref': True, 'differentiated': False},\n",
       " 'object_measurements': {'inspect': True},\n",
       " 'event': {'inspect': True, 'ref': True},\n",
       " 'subject_concept': {'inspect': True, 'ref': True, 'min_num': 3},\n",
       " 'resource': {'inspect': True},\n",
       " 'record_type': {'inspect': True,\n",
       "  'ref': True,\n",
       "  'patterns': {'label': '', 'ref': ''}},\n",
       " 'repository_name': {'inspect': True, 'ref': True},\n",
       " 'record_source': {'inspect': True, 'ref': True},\n",
       " 'record_rights': {'inspect': True,\n",
       "  'ref': True,\n",
       "  'patterns': {'label': '', 'ref': ''}},\n",
       " 'record_info': {'inspect': True}}"
      ]
     },
     "execution_count": 9,
     "metadata": {},
     "output_type": "execute_result"
    }
   ],
   "source": [
    "import json\n",
    "\n",
    "lido_config = lido_inspector.configuration\n",
    "with open('lido_config.json', \"w\") as outfile:\n",
    "    json.dump(lido_config, outfile, indent=4)\n",
    "\n",
    "lido_config"
   ]
  },
  {
   "cell_type": "markdown",
   "metadata": {},
   "source": [
    "When inspecting the configuration file, you can see the various setting options of the NFDInspector. In addition to the option to check whether certain data fields have entries, properties such as uniqueness within a data set, minimum and maximum length of entries, presence of referencing or ID can be checked. It is also possible to check entries for formal correctness using regular expressions.<br>\n",
    "In this case, the metadata should be checked for compatibility with the requirements of the German Digital Library. These requirements are listed on the __[DDB website](https://wiki.deutsche-digitale-bibliothek.de/display/DFD/Anforderungen+an+die+Lieferdaten)__ and can be viewed there. The minimum requirements stipulate that eight metadata elements must be present:\n",
    "\n",
    "- Data record identifier\n",
    "    - the identifier has to be stable\n",
    "    - the identifier must not contain any spaces\n",
    "- Data partner Identifiere\n",
    "    - unique and persistent identifier for institution supplying the dataset to the DDB\n",
    "    - The identifier should preferably be an International Standard Identifier for Libraries and Related Organizations (ISIL), ISO 15511, assigned by the German ISIL Agency and Sigelstelle at the Staatsbibliothek zu Berlin. For museums, the ISIL identifiers are assigned by the Institute for Museum Research Berlin.\n",
    "- Link to the digital object\n",
    "- Legal status of the digital object\n",
    "- Object title\n",
    "    - The object title should not be longer than 200 characters\n",
    "    - It is not sufficient to enter the object type or the object name as the object title for the DDB\n",
    "- Object type\n",
    "    - The Object type has to be refrenced by a controlled vocabulary\n",
    "- Media type\n",
    "\n",
    "<br>\n",
    "A configuration file can map the requirements. To do this, we modify the standard configuration as follows. The already exported file can either be edited and read in again, or the configuration within the LIDOInspector instance can be changed."
   ]
  }
 ],
 "metadata": {
  "kernelspec": {
   "display_name": "Python 3",
   "language": "python",
   "name": "python3"
  },
  "language_info": {
   "codemirror_mode": {
    "name": "ipython",
    "version": 3
   },
   "file_extension": ".py",
   "mimetype": "text/x-python",
   "name": "python",
   "nbconvert_exporter": "python",
   "pygments_lexer": "ipython3",
   "version": "3.12.4"
  }
 },
 "nbformat": 4,
 "nbformat_minor": 2
}
