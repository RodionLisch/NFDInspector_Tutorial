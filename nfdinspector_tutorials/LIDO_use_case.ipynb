{
 "cells": [
  {
   "cell_type": "markdown",
   "metadata": {},
   "source": [
    "## Use case for NFDInspector\n",
    "In this use case, we will explore the capabilities of NFDInspector a little further. We will go through a typical application. In our scenario, a collection of stereo glass plates was digitized as part of a digitization project. The associated metadata was partly generated from existing legacy data and partly created by new indexing.\n",
    "NDFInspector for LIDO-xml offers the possibility to adapt the parameters of the analysis to the respective use case. For this purpose, we will take a closer look at the configuration file and the setting options within it.<br>\n",
    "The LIDO xml files were created and collected in the /LIDO_xml folder. There are a total of 2,063 LIDO-records in separate xml files. The existing data was generated from the portal __[westfalen.museum-digital.de](https://westfalen.museum-digital.de/objects?s=collection:670)__. For more information on the specifications of the LIDO format, please refer to the __[documentation](https://cidoc.mini.icom.museum/working-groups/lido/lido-overview/about-lido/what-is-lido/)__.\n",
    "\n",
    "### Initialization\n",
    "To begin the inspection, the NFDInspector package is imported and the lido_inspector is initialized. English is selected as the output language."
   ]
  },
  {
   "cell_type": "code",
   "execution_count": 1,
   "metadata": {},
   "outputs": [],
   "source": [
    "from nfdinspector.lido_inspector import LIDOInspector\n",
    "\n",
    "lido_inspector = LIDOInspector(error_lang='en')"
   ]
  },
  {
   "cell_type": "markdown",
   "metadata": {},
   "source": [
    "### Configuration\n",
    "At this point, we will take a closer look at the configuration and therefore the configuration file. As there is no ready-made file available, the standard configuration can be retrieved from __[``LIDOInspector()``](https://montan-code.github.io/nfdinspector/nfdinspector.html#nfdinspector.lido_inspector.LIDOInspector)__ by calling the __[``.configuration``](https://montan-code.github.io/nfdinspector/nfdinspector.html#nfdinspector.lido_inspector.LIDOInspector.configuration)__ property.. The dictionary created in this way is saved as a JSON file and can also be displayed in the notebook."
   ]
  },
  {
   "cell_type": "code",
   "execution_count": 2,
   "metadata": {},
   "outputs": [
    {
     "data": {
      "text/plain": [
       "{'work_id': {'pattern': ''},\n",
       " 'title': {'inspect': True,\n",
       "  'unique': True,\n",
       "  'distinct_from_type': True,\n",
       "  'min_word_num': 2,\n",
       "  'max_word_num': 20},\n",
       " 'category': {'inspect': True,\n",
       "  'ref': True,\n",
       "  'patterns': {'label': '', 'ref': ''}},\n",
       " 'object_work_type': {'inspect': True,\n",
       "  'ref': True,\n",
       "  'patterns': {'label': '', 'ref': ''}},\n",
       " 'classification': {'inspect': True,\n",
       "  'ref': True,\n",
       "  'patterns': {'label': '', 'ref': ''}},\n",
       " 'object_description': {'inspect': True,\n",
       "  'unique': True,\n",
       "  'min_word_num': 20,\n",
       "  'max_word_num': 500},\n",
       " 'materials_tech': {'inspect': True, 'ref': True, 'differentiated': False},\n",
       " 'object_measurements': {'inspect': True},\n",
       " 'event': {'inspect': True, 'ref': True},\n",
       " 'subject_concept': {'inspect': True, 'ref': True, 'min_num': 3},\n",
       " 'resource': {'inspect': True},\n",
       " 'record_type': {'inspect': True,\n",
       "  'ref': True,\n",
       "  'patterns': {'label': '', 'ref': ''}},\n",
       " 'repository_name': {'inspect': True, 'ref': True},\n",
       " 'record_source': {'inspect': True, 'ref': True},\n",
       " 'record_rights': {'inspect': True,\n",
       "  'ref': True,\n",
       "  'patterns': {'label': '', 'ref': ''}},\n",
       " 'record_info': {'inspect': True}}"
      ]
     },
     "execution_count": 2,
     "metadata": {},
     "output_type": "execute_result"
    }
   ],
   "source": [
    "import json\n",
    "\n",
    "lido_config = lido_inspector.configuration\n",
    "with open('lido_config.json', \"w\") as outfile:\n",
    "    json.dump(lido_config, outfile, indent=4)\n",
    "\n",
    "lido_config"
   ]
  },
  {
   "cell_type": "markdown",
   "metadata": {},
   "source": [
    "When inspecting the configuration file, you can see the various setting options of the NFDInspector. In addition to the option to check whether certain data fields have entries, properties such as uniqueness within a data set, minimum and maximum length of entries, presence of referencing or ID can be checked. It is also possible to check entries for formal correctness using regular expressions.<br>\n",
    "In this case, the metadata should be checked for compatibility with the requirements of the German Digital Library. These requirements are listed on the __[DDB website](https://wiki.deutsche-digitale-bibliothek.de/display/DFD/Anforderungen+an+die+Lieferdaten)__ and can be viewed there. The minimum requirements stipulate that eight metadata elements must be present:\n",
    "\n",
    "- Data partner Identifier\n",
    "    - unique and persistent identifier for institution supplying the dataset to the DDB\n",
    "    - The identifier should preferably be an International Standard Identifier for Libraries and Related Organizations (ISIL), ISO 15511, assigned by the German ISIL Agency and Sigelstelle at the Staatsbibliothek zu Berlin. For museums, the ISIL identifiers are assigned by the Institute for Museum Research Berlin.\n",
    "- Link to the digital object\n",
    "- Legal status of the digital object\n",
    "- Object title\n",
    "    - The object title should not be longer than 200 characters\n",
    "    - It is not sufficient to enter the object type or the object name as the object title for the DDB\n",
    "- Object type\n",
    "    - The Object type has to be refrenced by a controlled vocabulary\n",
    "- Media type\n",
    "\n",
    "<br>\n",
    "A configuration file can map the requirements. To do this, we modify the standard configuration as follows. The already exported file can either be edited and read in again, or the configuration within the LIDOInspector instance can be changed. In this case we modify the standard configuration file to fit our needs. Therefore, we disable all other checks but the ones, specified above."
   ]
  },
  {
   "cell_type": "code",
   "execution_count": 22,
   "metadata": {},
   "outputs": [],
   "source": [
    "# read the modified configuration file\n",
    "lido_inspector.config_file('../nfdinspector_tutorials/DDB_lido_config.json')"
   ]
  },
  {
   "cell_type": "markdown",
   "metadata": {},
   "source": [
    "Now we can ingest the LIDO-xml files, we want to inspect by passing the containing directory to ``lido_inspector`` with the __[``.read_lido_files()``](https://montan-code.github.io/nfdinspector/nfdinspector.html#nfdinspector.lido_inspector.LIDOInspector.read_lido_files)__ method and start the inspection according to our specifications in the config file."
   ]
  },
  {
   "cell_type": "code",
   "execution_count": 23,
   "metadata": {},
   "outputs": [],
   "source": [
    "lido_inspector.read_lido_files(files_path='../nfdinspector_tutorials/LIDO_xml/stereo_montandok')\n",
    "lido_inspector.inspect()"
   ]
  },
  {
   "cell_type": "markdown",
   "metadata": {},
   "source": [
    "The results of the inspections are stored as a list of dictionaries under __[``LIDOInspector.inspections``](https://montan-code.github.io/nfdinspector/nfdinspector.html#nfdinspector.metadata_inspector.MetadataInspector.inspections)__ and can be accessed from there. Using __[``.to_json()``](https://montan-code.github.io/nfdinspector/nfdinspector.html#nfdinspector.metadata_inspector.MetadataInspector.to_json)__ we can write the results of the inspection to a JSON file."
   ]
  },
  {
   "cell_type": "code",
   "execution_count": null,
   "metadata": {},
   "outputs": [],
   "source": [
    "lido_inspector.to_json(file_path='../nfdinspector_tutorials/results/results_DDB.json', indent=4)"
   ]
  },
  {
   "cell_type": "markdown",
   "metadata": {},
   "source": [
    "To clean up the data, we remove all ``keys`` containing ``None`` and save the new list of results as ``cleaned_results``."
   ]
  },
  {
   "cell_type": "code",
   "execution_count": null,
   "metadata": {},
   "outputs": [],
   "source": [
    "cleaned_results_DDB = [\n",
    "    {key: value for key, value in inspection.items() if value is not None}\n",
    "    for inspection in lido_inspector.inspections\n",
    "]"
   ]
  },
  {
   "cell_type": "markdown",
   "metadata": {},
   "source": [
    "### Data quality\n",
    "\n",
    "What we have measured here has little significance for the formal quality of the metadata. Rather, we checked the compatibility with the DDB's requirements for data delivery. As was to be expected, the dataset fulfills these requirements. <br>\n",
    "In order to measure the quality with the tool, we need better parameters against which the data records can be checked. The __[Minimum Record Working Group](https://wiki.deutsche-digitale-bibliothek.de/pages/viewpage.action?pageId=218628097)__ (__[AG Minimaldatensatz](https://wiki.deutsche-digitale-bibliothek.de/pages/viewpage.action?pageId=120422678)__) offers a possible approach to this. The Minimum Record Recommendation helps museums and collections publish their object data online while adhering to the FAIR and CARE principles. It defines a basic dataset structure that ensures a minimum standard of data quality while remaining accessible, even for institutions with limited resources. The goal is to provide consistent, high-quality, and reusable data for identifying and describing collection objects. The recommendation also supports museums in preparing their data for modern use cases like Linked Open Data.\n",
    "We can incorporate these parameters into a configuration file and test the quality of our data based on the recommendation.\n",
    "\n",
    "As discussed in the introduction, our aim is to test the meta data quality of newly created catalogue items. For this purpose, during testing the __[specifications](https://wiki.deutsche-digitale-bibliothek.de/pages/viewpage.action?pageId=218628099)__ of the Minimum Record Recommendation Working Group in regard to data elements which are populated during cataloguing are observed. The following table shows the relationship between the above specifications and the settings in the configuration file.\n",
    "\n",
    "| MDR                            | config element      |\n",
    "|--------------------------------|---------------------|\n",
    "| Object title or name           | ``title``               |\n",
    "| Object type or designation     | ``object_work_type``    |\n",
    "| Classification(recomended)     | ``classification``      |\n",
    "| Inventory number               | ``work_id``             |\n",
    "| Object description(recomended) | ``object_description``  |\n",
    "| Materials(recomended)          | ``materials_tech``      |\n",
    "| Techniques(recomended)         | ``materials_tech``      |\n",
    "| Measurements(recomended)       | ``object_measurements`` |\n",
    "| Event in objekt history        | ``event``               |\n",
    "| Subject keyword (recommended)  | ``subject_concept``     |\n",
    "| Media file                     | ``resource``            |\n",
    "\n",
    "The other options are disabled to make the result easier to use and read."
   ]
  },
  {
   "cell_type": "code",
   "execution_count": null,
   "metadata": {},
   "outputs": [],
   "source": [
    "mdr_list = ['title', 'object_work_type', 'classification', 'work_id', 'object_description', 'materials_tech', 'object_measurements', 'event', 'subject_concept', 'resource']\n",
    "for key in lido_inspector.configuration.keys():\n",
    "    if key not in mdr_list:\n",
    "        lido_inspector.configuration[key]['inspect'] = False"
   ]
  },
  {
   "cell_type": "markdown",
   "metadata": {},
   "source": [
    "After we have modified the configuration, we can now perform the inspection by first reading the LIDO-XML data from a folder with the __[``.read_lido_files()``](https://montan-code.github.io/nfdinspector/nfdinspector.html#nfdinspector.lido_inspector.LIDOInspector.read_lido_files)__ method and calling the __[``.inspect()``](https://montan-code.github.io/nfdinspector/nfdinspector.html#nfdinspector.lido_inspector.LIDOInspector.inspect)__ method afterwards."
   ]
  },
  {
   "cell_type": "code",
   "execution_count": null,
   "metadata": {},
   "outputs": [],
   "source": [
    "# reading LIDO-XML data\n",
    "lido_inspector.read_lido_files('../nfdinspector_tutorials/LIDO_xml/stereo_montandok')\n",
    "# executing the inspection\n",
    "lido_inspector.inspect()"
   ]
  },
  {
   "cell_type": "markdown",
   "metadata": {},
   "source": [
    "### Output\n",
    "In addition to the methods described in the tutorial for outputting inspection results __[``.to_json()``](https://montan-code.github.io/nfdinspector/nfdinspector.html#nfdinspector.metadata_inspector.MetadataInspector.to_json)__ and __[``.to_csv()``](https://montan-code.github.io/nfdinspector/nfdinspector.html#nfdinspector.metadata_inspector.MetadataInspector.to_csv)__, it is also possible to customise the output to suit our requirements. For further processing and handling of the results, it would be desirable to summarise the data in an Excel spreadsheet. The formatting, filtering and evaluation options available here allow subsequent contributors to use the data in a low-threshold manner to identify and, if necessary, correct any problems with the indexing. We use the __[pandas](https://pandas.pydata.org/)__ library to clean up the table and output the file in the form of an Excel spreadsheet. This library needs to be installed on the machine."
   ]
  },
  {
   "cell_type": "code",
   "execution_count": null,
   "metadata": {},
   "outputs": [],
   "source": [
    "import pandas as pd\n",
    "\n",
    "df = pd.json_normalize(lido_inspector.inspections).dropna(axis=1, how=\"all\")\n",
    "for col in df:\n",
    "    if col in [\"lidoRecID\", \"workID\", \"id\", \"unitid\"]:\n",
    "        continue\n",
    "    df[col] = df[col].str.join(\"; \")\n",
    "df.to_excel('../nfdinspector_tutorials/results/LIDO_results.xlsx', index=False, sheet_name=\"inspections\", na_rep=\"-\")"
   ]
  }
 ],
 "metadata": {
  "kernelspec": {
   "display_name": "Python 3",
   "language": "python",
   "name": "python3"
  },
  "language_info": {
   "codemirror_mode": {
    "name": "ipython",
    "version": 3
   },
   "file_extension": ".py",
   "mimetype": "text/x-python",
   "name": "python",
   "nbconvert_exporter": "python",
   "pygments_lexer": "ipython3",
   "version": "3.12.4"
  }
 },
 "nbformat": 4,
 "nbformat_minor": 2
}
