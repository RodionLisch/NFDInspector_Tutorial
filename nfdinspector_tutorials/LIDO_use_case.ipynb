{
 "cells": [
  {
   "cell_type": "markdown",
   "metadata": {},
   "source": [
    "### Use case for NFDInspector\n",
    "In this use case, we will explore the capabilities of NFDInspector a little further. We will go through a typical application. In our scenario, a collection of stereo glass plates was digitized as part of a digitization project. The associated metadata was partly generated from existing legacy data and partly created by new indexing.\n",
    "NDFInspector for LIDO-xml offers the possibility to adapt the parameters of the analysis to the respective use case. For this purpose, we will take a closer look at the configuration file and the setting options within it.<br>\n",
    "The LIDO xml files were created and collected in the /LIDO_xml folder. There are a total of 2,063 LIDO-records in separate xml files. The existing data was generated from the portal __[westfalen.museum-digital.de](https://westfalen.museum-digital.de/objects?s=collection:670)__. For more information on the specifications of the LIDO format, please refer to the __[documentation](https://cidoc.mini.icom.museum/working-groups/lido/lido-overview/about-lido/what-is-lido/)__.\n",
    "\n",
    "### Initialization\n",
    "To begin the inspection, the NFDInspector package is imported and the lido_inspector is initialized. English is selected as the output language."
   ]
  },
  {
   "cell_type": "code",
   "execution_count": 3,
   "metadata": {},
   "outputs": [],
   "source": [
    "from nfdinspector.lido_inspector import LIDOInspector\n",
    "\n",
    "lido_inspector = LIDOInspector(error_lang='en')"
   ]
  },
  {
   "cell_type": "markdown",
   "metadata": {},
   "source": [
    "### Configuration\n",
    "At this point, we will take a closer look at the configuration and therefore the configuration file. As there is no ready-made file available, the standard configuration is read from the ``LIDOInspector``. The dictionary created in this way is saved as a JSON file and can also be displayed in the notebook."
   ]
  },
  {
   "cell_type": "code",
   "execution_count": null,
   "metadata": {},
   "outputs": [],
   "source": [
    "import json\n",
    "\n",
    "lido_config = lido_inspector.configuration\n",
    "with open('lido_config.json', \"w\") as outfile:\n",
    "    json.dump(lido_config, outfile, indent=4)\n",
    "\n",
    "lido_config"
   ]
  }
 ],
 "metadata": {
  "kernelspec": {
   "display_name": "Python 3",
   "language": "python",
   "name": "python3"
  },
  "language_info": {
   "codemirror_mode": {
    "name": "ipython",
    "version": 3
   },
   "file_extension": ".py",
   "mimetype": "text/x-python",
   "name": "python",
   "nbconvert_exporter": "python",
   "pygments_lexer": "ipython3",
   "version": "3.12.4"
  }
 },
 "nbformat": 4,
 "nbformat_minor": 2
}
