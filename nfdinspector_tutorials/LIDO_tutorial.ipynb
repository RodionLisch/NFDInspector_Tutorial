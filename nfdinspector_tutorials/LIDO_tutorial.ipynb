{
 "cells": [
  {
   "cell_type": "markdown",
   "metadata": {},
   "source": [
    "## LIDOInspector Tutorial\n",
    "\n",
    "### Authors\n",
    "Rodion Lischnewski, Andreas Ketelaer\n",
    "\n",
    "### Introduction\n",
    "NFDInspector is designed to facilitate the inspection of formal quality issues pertaining to research data. It is currently compatible with the LIDO and EAD metadata standards. The project has been funded by the “4Memory Incubator Funds” of the NFDI4Memory consortium and is being developed and maintained by the Montanhistorisches Dokumentationszentrum (montan.dok) of the Deutsches Bergbau-Museum Bochum.\n",
    "\n",
    "### Target Group\n",
    "This tutorial is aimed at new users of the NFDInspector. The aim is to make it easier to get started using the tool based on a use case presented here. A basic understanding of Python programming is required to use the tool independently. Due to the open source architecture, the tool can be integrated into other programs, tools and applications. In its stand-alone form, the tool is used via a command line interface.\n",
    "\n",
    "### Requirements\n",
    "It is assumed that a current version of Python is installed on the machine. No further libraries are required for the basic functions. Nevertheless, the installation of packages that are required for further use is recommended:\n",
    "+ __[pandas](https://pandas.pydata.org/)__\n",
    "+ __[numpy](https://numpy.org/)__\n",
    "+ __[lxml](https://lxml.de/)__\n",
    "+ __[json](https://docs.python.org/3/library/json.html)__\n",
    "\n",
    "### Learning goals\n",
    "* [Read metadata records from different sources](#read-metadata-records-from-different-sources)\n",
    "* Customize inspection configuration\n",
    "* Carry out inspection\n",
    "* Process or output the results\n",
    "\n",
    "For information on how to install the NFDInspector please refer to the installation guide.\n",
    "\n",
    "### Installation\n",
    "\n"
   ]
  },
  {
   "cell_type": "code",
   "execution_count": null,
   "metadata": {},
   "outputs": [],
   "source": []
  },
  {
   "cell_type": "markdown",
   "metadata": {},
   "source": [
    "### Import and initialize:\n",
    "You can import the ``LIDOInspector()``, a class from the ``nfdinspector.lido_inspector`` module.\n",
    "while initiliazing the LIDOInspector, you can specify the language for the error messages. Though currently only ``'en'`` and ``'de'`` are available. In our case we will stick to english output.\n"
   ]
  },
  {
   "cell_type": "code",
   "execution_count": null,
   "metadata": {},
   "outputs": [],
   "source": [
    "from nfdinspector.lido_inspector import LIDOInspector\n",
    "lido_inspector = LIDOInspector(error_lang='en')"
   ]
  },
  {
   "cell_type": "markdown",
   "metadata": {},
   "source": [
    "### Read metadata records from different sources\n",
    "\n",
    "The easiest way to ingest metadata is from a standalone ``.xml`` file. Multiple file can be ingested and inspected in succession.  Several meta data records can also come combined in one xml file."
   ]
  },
  {
   "cell_type": "markdown",
   "metadata": {},
   "source": [
    "### Read metadata from single source"
   ]
  },
  {
   "cell_type": "markdown",
   "metadata": {},
   "source": [
    "### Read metadata from multiple sources"
   ]
  },
  {
   "cell_type": "markdown",
   "metadata": {},
   "source": [
    "### Configuration"
   ]
  }
 ],
 "metadata": {
  "kernelspec": {
   "display_name": "Python 3",
   "language": "python",
   "name": "python3"
  },
  "language_info": {
   "codemirror_mode": {
    "name": "ipython",
    "version": 3
   },
   "file_extension": ".py",
   "mimetype": "text/x-python",
   "name": "python",
   "nbconvert_exporter": "python",
   "pygments_lexer": "ipython3",
   "version": "3.12.4"
  }
 },
 "nbformat": 4,
 "nbformat_minor": 2
}
