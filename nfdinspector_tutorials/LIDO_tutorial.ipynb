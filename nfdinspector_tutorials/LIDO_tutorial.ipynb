{
 "cells": [
  {
   "cell_type": "markdown",
   "metadata": {},
   "source": [
    "LIDOInspector Tutorial\n",
    "\n",
    "LIDOInspector is a part of the NFDInspector python package. The basic functionality of LIDOInspector is to analyse metadata records for objects and works based on the LIDO metadata standard for formal data quality aspects. Inspections are performed in the following steps:\n",
    "1. Read metadata records for objects and works\n",
    "2. Customise inspection settings\n",
    "3. Carry out inspections\n",
    "4. Further process or output the results\n",
    "\n",
    "The inspection process is mainly determined by the settings made. It makes sense to use different configuration files for different purposes. The creation of configuration files will be discussed in an other notebook.<br>\n",
    "The following tutorial is designed to represent a use case for the LIDOInspector. "
   ]
  }
 ],
 "metadata": {
  "language_info": {
   "name": "python"
  }
 },
 "nbformat": 4,
 "nbformat_minor": 2
}
