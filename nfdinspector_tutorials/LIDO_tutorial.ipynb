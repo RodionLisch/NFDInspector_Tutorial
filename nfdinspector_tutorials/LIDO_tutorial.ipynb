{
 "cells": [
  {
   "cell_type": "markdown",
   "metadata": {},
   "source": [
    "## LIDOInspector Tutorial\n",
    "\n",
    "### Authors\n",
    "Rodion Lischnewski\n",
    "\n",
    "### Introduction\n",
    "NFDInspector is designed to facilitate the inspection of formal quality issues pertaining to research data. It is currently compatible with the LIDO and EAD metadata standards. The project has been funded by the “4Memory Incubator Funds” of the NFDI4Memory consortium and is being developed and maintained by the Montanhistorisches Dokumentationszentrum (montan.dok) of the Deutsches Bergbau-Museum Bochum.\n",
    "\n",
    "### Target Group\n",
    "This tutorial is aimed at new users of the NFDInspector. The aim is to make it easier to get started using the tool based on a use case presented here. A basic understanding of Python programming is required to use the tool independently. Due to the open source architecture, the tool can be integrated into other programs, tools and applications.\n",
    "\n",
    "### Requirements\n",
    "It is assumed that Python version 3.10 is installed on the machine. Further the lxml library is required to use the NFDInspector package. Besides, the installation of packages that are required for further use is recommended:\n",
    "+ __[lxml](https://lxml.de/)__\n",
    "+ __[pandas](https://pandas.pydata.org/)__\n",
    "+ __[json](https://docs.python.org/3/library/json.html)__\n",
    "\n",
    "\n",
    "### Learning goals\n",
    "* [Installation](#installation)\n",
    "* [Read metadata records from different sources](#read-metadata-records-from-different-sources)\n",
    "* [Customize inspection configuration](#configuration)\n",
    "* [Carry out inspection](#inspection)\n",
    "* [Process or output the results](#file-output)"
   ]
  },
  {
   "cell_type": "markdown",
   "metadata": {},
   "source": [
    "### Installation\n",
    "The __[NFDInspector](https://github.com/montan-code/nfdinspector)__ package includes modules for the inspection of LIDO-xml and EAD-xml formats as standard. To install NFDInspector using pip on macOS or Linux, run:"
   ]
  },
  {
   "cell_type": "code",
   "execution_count": null,
   "metadata": {},
   "outputs": [],
   "source": [
    "python3 -m pip install nfdinspector"
   ]
  },
  {
   "cell_type": "markdown",
   "metadata": {},
   "source": [
    "To install with pip under Windows, run:"
   ]
  },
  {
   "cell_type": "code",
   "execution_count": null,
   "metadata": {},
   "outputs": [],
   "source": [
    "py -m pip install nfdinspector"
   ]
  },
  {
   "cell_type": "markdown",
   "metadata": {},
   "source": [
    "### Import and initialize:\n",
    "You can import the __[``LIDOInspector()``](https://montan-code.github.io/nfdinspector/nfdinspector.html#nfdinspector.lido_inspector.LIDOInspector)__, a class from the __[``nfdinspector.lido_inspector``](https://montan-code.github.io/nfdinspector/nfdinspector.html#module-nfdinspector.lido_inspector)__ module.\n",
    "While initiliazing the LIDOInspector, you can specify the language for the error messages. Though currently only ``'en'`` and ``'de'`` are available. In our case we will stick to english output."
   ]
  },
  {
   "cell_type": "code",
   "execution_count": 2,
   "metadata": {},
   "outputs": [],
   "source": [
    "from nfdinspector.lido_inspector import LIDOInspector\n",
    "\n",
    "lido_inspector = LIDOInspector(error_lang='en')"
   ]
  },
  {
   "cell_type": "markdown",
   "metadata": {},
   "source": [
    "### Read metadata records from different sources\n",
    "\n",
    "The easiest way to ingest metadata is from a standalone ``.xml`` file. XML files can also contain more than one LIDO-object. The NFDInspector can destinguish between LIDO-objects in one file and store them separately in a list, which is the property __[``lido_objects``](https://montan-code.github.io/nfdinspector/nfdinspector.html#nfdinspector.lido_inspector.LIDOInspector.lido_objects)__ of the __[``LIDOInspector()``](https://montan-code.github.io/nfdinspector/nfdinspector.html#nfdinspector.lido_inspector.LIDOInspector)__ class as."
   ]
  },
  {
   "cell_type": "code",
   "execution_count": 3,
   "metadata": {},
   "outputs": [],
   "source": [
    "file_path = '../nfdinspector_tutorials/LIDO_xml/23310.xml'\n",
    "lido_inspector.read_lido_file(file_path)"
   ]
  },
  {
   "cell_type": "markdown",
   "metadata": {},
   "source": [
    "### Read metadata from multiple sources"
   ]
  },
  {
   "cell_type": "markdown",
   "metadata": {},
   "source": [
    "You can read several files by specifying the folder path containing the ``.xml`` files."
   ]
  },
  {
   "cell_type": "code",
   "execution_count": 3,
   "metadata": {},
   "outputs": [],
   "source": [
    "lido_inspector.read_lido_files('../nfdinspector_tutorials/LIDO_xml')"
   ]
  },
  {
   "cell_type": "markdown",
   "metadata": {},
   "source": [
    "Alternatively, you can parse LIDO-XML directly from a string and forward it to the Inspector by using the function __[``.read_lido()``](https://montan-code.github.io/nfdinspector/nfdinspector.html#nfdinspector.lido_inspector.LIDOInspector.read_lido)__.\n",
    "This is useful if you are implementing the NFDIsnpector functionality into a larger workflow."
   ]
  },
  {
   "cell_type": "code",
   "execution_count": null,
   "metadata": {},
   "outputs": [],
   "source": [
    "lido_inspector.read_lido(lido_xml_string)"
   ]
  },
  {
   "cell_type": "markdown",
   "metadata": {},
   "source": [
    "### Configuration\n",
    "NFDInspector offers the ability to customise the inspection to your specific needs. If no special configuration is specified, the built-in configuration will be used. \n",
    "Customisation is usually done via a configuration file. Configurations can be exported and imported in JSON format.\n",
    "The default configuration is variable and can be changed with package updates. To view the current default configuration, it can be retrieved from __[``LIDOInspector()``](https://montan-code.github.io/nfdinspector/nfdinspector.html#nfdinspector.lido_inspector.LIDOInspector)__ by calling the __[``.configuration``](https://montan-code.github.io/nfdinspector/nfdinspector.html#nfdinspector.lido_inspector.LIDOInspector.configuration)__ property. The dictionary lists the default configuration"
   ]
  },
  {
   "cell_type": "code",
   "execution_count": 18,
   "metadata": {},
   "outputs": [],
   "source": [
    "lido_config = lido_inspector.configuration"
   ]
  },
  {
   "cell_type": "markdown",
   "metadata": {},
   "source": [
    "The following script will store the configuration in JSON format in the ``config_path.json`` location."
   ]
  },
  {
   "cell_type": "code",
   "execution_count": 22,
   "metadata": {},
   "outputs": [],
   "source": [
    "import json\n",
    "\n",
    "config_path = 'lido_config.json'\n",
    "with open(config_path, 'w') as outfile:\n",
    "    json.dump(lido_config, outfile, indent=4)"
   ]
  },
  {
   "cell_type": "markdown",
   "metadata": {},
   "source": [
    "The __[``.config_file()``](https://montan-code.github.io/nfdinspector/nfdinspector.html#nfdinspector.lido_inspector.LIDOInspector.config_file)__ function can be used to import configuration files from JSON files with compatible syntax."
   ]
  },
  {
   "cell_type": "code",
   "execution_count": 20,
   "metadata": {},
   "outputs": [],
   "source": [
    "lido_inspector.config_file(config_path)"
   ]
  },
  {
   "cell_type": "markdown",
   "metadata": {},
   "source": [
    "We will take a closer look at the configuration options later on. For now, let's take a look at the basic functions.\n",
    "\n",
    "### Inspection\n",
    "First we read the xml LIDO files by passing the path to the __[``.read_lido_files()``](https://montan-code.github.io/nfdinspector/nfdinspector.html#nfdinspector.lido_inspector.LIDOInspector.read_lido_files)__ function. The data is then inspected based on the settings in the [configuration](#configuration). This is done by calling the __[``.inspect()``](https://montan-code.github.io/nfdinspector/nfdinspector.html#nfdinspector.lido_inspector.LIDOInspector.inspect)__ function.<br>\n"
   ]
  },
  {
   "cell_type": "code",
   "execution_count": 4,
   "metadata": {},
   "outputs": [],
   "source": [
    "lido_inspector.inspect()"
   ]
  },
  {
   "cell_type": "markdown",
   "metadata": {},
   "source": [
    "The results of the inspections are stored as list of dictionaries under __[``LIDOInspector.inspections``](https://montan-code.github.io/nfdinspector/nfdinspector.html#nfdinspector.metadata_inspector.MetadataInspector.inspections)__ and can be accessed from there."
   ]
  },
  {
   "cell_type": "code",
   "execution_count": null,
   "metadata": {},
   "outputs": [],
   "source": [
    "print(lido_inspector.inspections)"
   ]
  },
  {
   "cell_type": "markdown",
   "metadata": {},
   "source": [
    "### File output\n",
    "\n",
    "Using __[``.to_json()``](https://montan-code.github.io/nfdinspector/nfdinspector.html#nfdinspector.metadata_inspector.MetadataInspector.to_json)__ and __[``.to_csv()``](https://montan-code.github.io/nfdinspector/nfdinspector.html#nfdinspector.metadata_inspector.MetadataInspector.to_csv)__ it is possible to output the inspection results in the appropriate formats. The indentation level of the JSON file can be specified with the ``indent`` parameter, the file path for the output file can be specified respectively in the ``to_json(\"filepath\", indent=4)`` function. A ``delimiter`` for the csv format output can likewise be specified in the function as a string ``.to_csv(\"filepath\", delimiter=';')``"
   ]
  },
  {
   "cell_type": "code",
   "execution_count": 15,
   "metadata": {},
   "outputs": [],
   "source": [
    "lido_inspector.to_json('../nfdinspector_tutorials/results/results.json', indent=4)\n",
    "lido_inspector.to_csv('../nfdinspector_tutorials/results/results.csv', delimiter=';')"
   ]
  },
  {
   "cell_type": "markdown",
   "metadata": {},
   "source": [
    "For further informations please refer to the __[NFDInspector Documentation](https://montan-code.github.io/nfdinspector/)__"
   ]
  }
 ],
 "metadata": {
  "kernelspec": {
   "display_name": "Python 3",
   "language": "python",
   "name": "python3"
  },
  "language_info": {
   "codemirror_mode": {
    "name": "ipython",
    "version": 3
   },
   "file_extension": ".py",
   "mimetype": "text/x-python",
   "name": "python",
   "nbconvert_exporter": "python",
   "pygments_lexer": "ipython3",
   "version": "3.12.4"
  }
 },
 "nbformat": 4,
 "nbformat_minor": 2
}
