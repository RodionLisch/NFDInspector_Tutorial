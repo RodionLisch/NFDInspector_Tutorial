{
 "cells": [
  {
   "cell_type": "markdown",
   "metadata": {},
   "source": [
    "## LIDOInspector Tutorial\n",
    "\n",
    "### Authors\n",
    "Rodion Lischnewski\n",
    "\n",
    "### Introduction\n",
    "NFDInspector is designed to facilitate the inspection of formal quality issues pertaining to research data. It is currently compatible with the LIDO and EAD metadata standards. The project has been funded by the “4Memory Incubator Funds” of the NFDI4Memory consortium and is being developed and maintained by the Montanhistorisches Dokumentationszentrum (montan.dok) of the Deutsches Bergbau-Museum Bochum.\n",
    "\n",
    "### Target Group\n",
    "This tutorial is aimed at new users of the NFDInspector. The aim is to make it easier to get started using the tool based on a use case presented here. A basic understanding of Python programming is required to use the tool independently. Due to the open source architecture, the tool can be integrated into other programs, tools and applications. In its stand-alone form, the tool is used via a command line interface.\n",
    "\n",
    "### Requirements\n",
    "It is assumed that a current version of Python is installed on the machine. No further libraries are required for the basic functions. Nevertheless, the installation of packages that are required for further use is recommended:\n",
    "+ __[pandas](https://pandas.pydata.org/)__\n",
    "+ __[numpy](https://numpy.org/)__\n",
    "+ __[lxml](https://lxml.de/)__\n",
    "+ __[json](https://docs.python.org/3/library/json.html)__\n",
    "\n",
    "NFDInspector uses following libraries:\n",
    "+ os\n",
    "+ json\n",
    "+ csv\n",
    "+ re\n",
    "+ datetime\n",
    "+ lxml\n",
    "\n",
    "### Learning goals\n",
    "* [Installation](#installation)\n",
    "* [Read metadata records from different sources](#read-metadata-records-from-different-sources)\n",
    "* [Customize inspection configuration](#configuration)\n",
    "* Carry out inspection\n",
    "* Process or output the results"
   ]
  },
  {
   "cell_type": "markdown",
   "metadata": {},
   "source": [
    "### Installation\n",
    "The NFDInspector package includes modules for the inspection of LIDO-xml and EAD-xml formats as standard. To install NFDInspector using pip on macOS or Linux, run:"
   ]
  },
  {
   "cell_type": "code",
   "execution_count": null,
   "metadata": {},
   "outputs": [],
   "source": [
    "python3 -m pip install nfdinspector"
   ]
  },
  {
   "cell_type": "markdown",
   "metadata": {},
   "source": [
    "To install with pip under Windows, run:"
   ]
  },
  {
   "cell_type": "code",
   "execution_count": null,
   "metadata": {},
   "outputs": [],
   "source": [
    "py -m pip install nfdinspector"
   ]
  },
  {
   "cell_type": "markdown",
   "metadata": {},
   "source": [
    "### Import and initialize:\n",
    "You can import the ``LIDOInspector()``, a class from the ``nfdinspector.lido_inspector`` module.\n",
    "While initiliazing the LIDOInspector, you can specify the language for the error messages. Though currently only ``'en'`` and ``'de'`` are available. In our case we will stick to english output."
   ]
  },
  {
   "cell_type": "code",
   "execution_count": 1,
   "metadata": {},
   "outputs": [],
   "source": [
    "from nfdinspector.lido_inspector import LIDOInspector\n",
    "\n",
    "lido_inspector = LIDOInspector(error_lang='en')"
   ]
  },
  {
   "cell_type": "markdown",
   "metadata": {},
   "source": [
    "### Read metadata records from different sources\n",
    "\n",
    "The easiest way to ingest metadata is from a standalone ``.xml`` file. XML files can also contain more than one LIDO-object. The NFDInspector can destinguish between LIDO-objects in one file."
   ]
  },
  {
   "cell_type": "code",
   "execution_count": 12,
   "metadata": {},
   "outputs": [
    {
     "ename": "OSError",
     "evalue": "Error reading file '\\nfdinspector_tutorials\\LIDO_xml\\23318.xml': failed to load external entity \"/nfdinspector_tutorials/LIDO_xml/23318.xml\"",
     "output_type": "error",
     "traceback": [
      "\u001b[1;31m---------------------------------------------------------------------------\u001b[0m",
      "\u001b[1;31mOSError\u001b[0m                                   Traceback (most recent call last)",
      "Cell \u001b[1;32mIn[12], line 2\u001b[0m\n\u001b[0;32m      1\u001b[0m file_path \u001b[38;5;241m=\u001b[39m \u001b[38;5;124m'\u001b[39m\u001b[38;5;130;01m\\\\\u001b[39;00m\u001b[38;5;124mnfdinspector_tutorials\u001b[39m\u001b[38;5;130;01m\\\\\u001b[39;00m\u001b[38;5;124mLIDO_xml\u001b[39m\u001b[38;5;130;01m\\\\\u001b[39;00m\u001b[38;5;124m23318.xml\u001b[39m\u001b[38;5;124m'\u001b[39m\n\u001b[1;32m----> 2\u001b[0m \u001b[43mlido_inspector\u001b[49m\u001b[38;5;241;43m.\u001b[39;49m\u001b[43mread_lido_file\u001b[49m\u001b[43m(\u001b[49m\u001b[43mfile_path\u001b[49m\u001b[43m)\u001b[49m\n",
      "File \u001b[1;32m~\\AppData\\Roaming\\Python\\Python312\\site-packages\\nfdinspector\\lido_inspector.py:137\u001b[0m, in \u001b[0;36mLIDOInspector.read_lido_file\u001b[1;34m(self, file_path)\u001b[0m\n\u001b[0;32m    130\u001b[0m \u001b[38;5;28;01mdef\u001b[39;00m \u001b[38;5;21mread_lido_file\u001b[39m(\u001b[38;5;28mself\u001b[39m, file_path: \u001b[38;5;28mstr\u001b[39m) \u001b[38;5;241m-\u001b[39m\u001b[38;5;241m>\u001b[39m \u001b[38;5;28;01mNone\u001b[39;00m:\n\u001b[0;32m    131\u001b[0m \u001b[38;5;250m    \u001b[39m\u001b[38;5;124;03m\"\"\"\u001b[39;00m\n\u001b[0;32m    132\u001b[0m \u001b[38;5;124;03m    Parse LIDO-XML from a file and assign LIDO records to the inspector.\u001b[39;00m\n\u001b[0;32m    133\u001b[0m \n\u001b[0;32m    134\u001b[0m \u001b[38;5;124;03m    :param file_path: File path to a LIDO-XML file\u001b[39;00m\n\u001b[0;32m    135\u001b[0m \u001b[38;5;124;03m    :type file_path: str\u001b[39;00m\n\u001b[0;32m    136\u001b[0m \u001b[38;5;124;03m    \"\"\"\u001b[39;00m\n\u001b[1;32m--> 137\u001b[0m     xml_root \u001b[38;5;241m=\u001b[39m \u001b[43mMetadataInspector\u001b[49m\u001b[38;5;241;43m.\u001b[39;49m\u001b[43mread_xml_file\u001b[49m\u001b[43m(\u001b[49m\u001b[43mfile_path\u001b[49m\u001b[43m)\u001b[49m\n\u001b[0;32m    138\u001b[0m     \u001b[38;5;28mself\u001b[39m\u001b[38;5;241m.\u001b[39mlido_objects \u001b[38;5;241m=\u001b[39m [obj \u001b[38;5;28;01mfor\u001b[39;00m obj \u001b[38;5;129;01min\u001b[39;00m xml_root\u001b[38;5;241m.\u001b[39miter(\u001b[38;5;124m\"\u001b[39m\u001b[38;5;124m{\u001b[39m\u001b[38;5;124m*}lido\u001b[39m\u001b[38;5;124m\"\u001b[39m)]\n",
      "File \u001b[1;32m~\\AppData\\Roaming\\Python\\Python312\\site-packages\\nfdinspector\\metadata_inspector.py:77\u001b[0m, in \u001b[0;36mMetadataInspector.read_xml_file\u001b[1;34m(file_path)\u001b[0m\n\u001b[0;32m     68\u001b[0m \u001b[38;5;250m\u001b[39m\u001b[38;5;124;03m\"\"\"\u001b[39;00m\n\u001b[0;32m     69\u001b[0m \u001b[38;5;124;03mParse XML from a file.\u001b[39;00m\n\u001b[0;32m     70\u001b[0m \n\u001b[1;32m   (...)\u001b[0m\n\u001b[0;32m     74\u001b[0m \u001b[38;5;124;03m:rtype: etree._Element\u001b[39;00m\n\u001b[0;32m     75\u001b[0m \u001b[38;5;124;03m\"\"\"\u001b[39;00m\n\u001b[0;32m     76\u001b[0m parser \u001b[38;5;241m=\u001b[39m etree\u001b[38;5;241m.\u001b[39mXMLParser(remove_blank_text\u001b[38;5;241m=\u001b[39m\u001b[38;5;28;01mTrue\u001b[39;00m, ns_clean\u001b[38;5;241m=\u001b[39m\u001b[38;5;28;01mTrue\u001b[39;00m)\n\u001b[1;32m---> 77\u001b[0m \u001b[38;5;28;01mreturn\u001b[39;00m \u001b[43metree\u001b[49m\u001b[38;5;241;43m.\u001b[39;49m\u001b[43mparse\u001b[49m\u001b[43m(\u001b[49m\u001b[43mfile_path\u001b[49m\u001b[43m,\u001b[49m\u001b[43m \u001b[49m\u001b[43mparser\u001b[49m\u001b[43m)\u001b[49m\u001b[38;5;241m.\u001b[39mgetroot()\n",
      "File \u001b[1;32msrc\\\\lxml\\\\etree.pyx:3590\u001b[0m, in \u001b[0;36mlxml.etree.parse\u001b[1;34m()\u001b[0m\n",
      "File \u001b[1;32msrc\\\\lxml\\\\parser.pxi:1952\u001b[0m, in \u001b[0;36mlxml.etree._parseDocument\u001b[1;34m()\u001b[0m\n",
      "File \u001b[1;32msrc\\\\lxml\\\\parser.pxi:1978\u001b[0m, in \u001b[0;36mlxml.etree._parseDocumentFromURL\u001b[1;34m()\u001b[0m\n",
      "File \u001b[1;32msrc\\\\lxml\\\\parser.pxi:1881\u001b[0m, in \u001b[0;36mlxml.etree._parseDocFromFile\u001b[1;34m()\u001b[0m\n",
      "File \u001b[1;32msrc\\\\lxml\\\\parser.pxi:1200\u001b[0m, in \u001b[0;36mlxml.etree._BaseParser._parseDocFromFile\u001b[1;34m()\u001b[0m\n",
      "File \u001b[1;32msrc\\\\lxml\\\\parser.pxi:633\u001b[0m, in \u001b[0;36mlxml.etree._ParserContext._handleParseResultDoc\u001b[1;34m()\u001b[0m\n",
      "File \u001b[1;32msrc\\\\lxml\\\\parser.pxi:743\u001b[0m, in \u001b[0;36mlxml.etree._handleParseResult\u001b[1;34m()\u001b[0m\n",
      "File \u001b[1;32msrc\\\\lxml\\\\parser.pxi:670\u001b[0m, in \u001b[0;36mlxml.etree._raiseParseError\u001b[1;34m()\u001b[0m\n",
      "\u001b[1;31mOSError\u001b[0m: Error reading file '\\nfdinspector_tutorials\\LIDO_xml\\23318.xml': failed to load external entity \"/nfdinspector_tutorials/LIDO_xml/23318.xml\""
     ]
    }
   ],
   "source": [
    "file_path = '\\\\nfdinspector_tutorials\\\\LIDO_xml\\\\23318.xml'\n",
    "lido_inspector.read_lido_file(file_path)"
   ]
  },
  {
   "cell_type": "markdown",
   "metadata": {},
   "source": [
    "### Read metadata from multiple sources"
   ]
  },
  {
   "cell_type": "markdown",
   "metadata": {},
   "source": [
    "You can read several files by specifying the folder path containing the xml files."
   ]
  },
  {
   "cell_type": "code",
   "execution_count": null,
   "metadata": {},
   "outputs": [],
   "source": [
    "lido_inspector.read_lido_files('nfdinspector_tutorials\\LIDO_xml')"
   ]
  },
  {
   "cell_type": "markdown",
   "metadata": {},
   "source": [
    "Alternatively, you can parse LIDO-XML directly from a string and forward it to the Inspector by using the function ``.read_lido``.\n",
    "This is useful if you are implementing the NFDIsnpector functionality into a larger workflow."
   ]
  },
  {
   "cell_type": "code",
   "execution_count": null,
   "metadata": {},
   "outputs": [],
   "source": [
    "lido_inspector.read_lido(lido_xml_string)"
   ]
  },
  {
   "cell_type": "markdown",
   "metadata": {},
   "source": [
    "### Configuration\n",
    "NFDInspector offers the ability to customise the inspection to your specific needs. If no special configuration is specified, the built-in configuration will be used. \n",
    "Customisation is usually done via a configuration file. Configurations can be exported and imported in JSON format.\n",
    "The default configuration is variable and can be changed with package updates. To view the current default configuration, it can be retrieved from LIDOInspector by calling the ``configuration`` property. The dictionary returned lists the default configuration"
   ]
  },
  {
   "cell_type": "code",
   "execution_count": null,
   "metadata": {},
   "outputs": [],
   "source": [
    "lido_config = lido_inspector.configuration"
   ]
  },
  {
   "cell_type": "markdown",
   "metadata": {},
   "source": [
    "The following script will store the configuration in JSON format in the ``config_path`` location."
   ]
  },
  {
   "cell_type": "code",
   "execution_count": null,
   "metadata": {},
   "outputs": [],
   "source": [
    "import json\n",
    "\n",
    "config_path = 'lido_config_schema.json'\n",
    "with open(config_path, 'w') as outfile:\n",
    "    json.dump(lido_config, outfile, indent=4)"
   ]
  },
  {
   "cell_type": "markdown",
   "metadata": {},
   "source": [
    "The ``config_file()`` function can be used to import configuration files from JSON files with compatible syntax."
   ]
  },
  {
   "cell_type": "code",
   "execution_count": null,
   "metadata": {},
   "outputs": [],
   "source": [
    "lido_inspector.config_file(config_path)"
   ]
  },
  {
   "cell_type": "markdown",
   "metadata": {},
   "source": [
    "We will take a closer look at the configuration options later on. For now, let's take a look at the basic functions."
   ]
  }
 ],
 "metadata": {
  "kernelspec": {
   "display_name": "Python 3",
   "language": "python",
   "name": "python3"
  },
  "language_info": {
   "codemirror_mode": {
    "name": "ipython",
    "version": 3
   },
   "file_extension": ".py",
   "mimetype": "text/x-python",
   "name": "python",
   "nbconvert_exporter": "python",
   "pygments_lexer": "ipython3",
   "version": "3.12.4"
  }
 },
 "nbformat": 4,
 "nbformat_minor": 2
}
